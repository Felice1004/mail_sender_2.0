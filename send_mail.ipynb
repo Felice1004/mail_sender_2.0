{
 "cells": [
  {
   "cell_type": "code",
   "execution_count": 3,
   "metadata": {},
   "outputs": [],
   "source": [
    "import pandas as pd\n",
    "import os\n",
    "import numpy as np\n",
    "from datetime import datetime, timedelta\n",
    "import requests\n",
    "import json\n",
    "import glob\n",
    "import time\n",
    "import smtplib\n",
    "from email.mime.multipart import MIMEMultipart\n",
    "from email.mime.text import MIMEText\n",
    "from email.mime.base import MIMEBase\n",
    "from email import encoders\n",
    "import functions as f\n"
   ]
  },
  {
   "cell_type": "code",
   "execution_count": 17,
   "metadata": {},
   "outputs": [],
   "source": [
    "def send_mail(receiver_emails):\n",
    "\n",
    "    for receiver_email in receiver_emails:\n",
    "\n",
    "        # Email credentials\n",
    "        sender_email = f.get_config_param('sender_email')\n",
    "        receiver_email = receiver_email\n",
    "        password = f.get_config_param('password')  # Be cautious with your password\n",
    "\n",
    "        # Email content\n",
    "        subject = f.get_config_param('subject')\n",
    "\n",
    "        # Creating a MIMEMultipart object\n",
    "        msg = MIMEMultipart()\n",
    "        msg['From'] = sender_email\n",
    "        msg['To'] = receiver_email\n",
    "        msg['Subject'] = subject\n",
    "\n",
    "        with open('mail.html', 'r') as file:\n",
    "            html_content = file.read()\n",
    "        msg.attach(MIMEText(html_content, 'html'))\n",
    "\n",
    "        # Send the email\n",
    "        try:\n",
    "            # Establish a secure session with Gmail's outgoing SMTP server using your gmail account\n",
    "            server = smtplib.SMTP('smtp.gmail.com', 587)\n",
    "            server.starttls()  # Secure the connection\n",
    "            server.login(sender_email, password)\n",
    "\n",
    "            # Send email\n",
    "            server.send_message(msg)\n",
    "            print(\"Email sent successfully\")\n",
    "        except Exception as e:\n",
    "            print(f\"Error: {e}\")\n",
    "        finally:\n",
    "            server.quit()\n"
   ]
  },
  {
   "cell_type": "code",
   "execution_count": 22,
   "metadata": {},
   "outputs": [
    {
     "name": "stdout",
     "output_type": "stream",
     "text": [
      "Email sent successfully\n"
     ]
    }
   ],
   "source": [
    "receiver_emails = pd.read_csv('receiver_emails.csv')\n",
    "receiver_emails = receiver_emails['receiver_email'].tolist()\n",
    "send_mail(receiver_emails)"
   ]
  }
 ],
 "metadata": {
  "kernelspec": {
   "display_name": "klook-ml",
   "language": "python",
   "name": "python3"
  },
  "language_info": {
   "codemirror_mode": {
    "name": "ipython",
    "version": 3
   },
   "file_extension": ".py",
   "mimetype": "text/x-python",
   "name": "python",
   "nbconvert_exporter": "python",
   "pygments_lexer": "ipython3",
   "version": "3.11.7"
  }
 },
 "nbformat": 4,
 "nbformat_minor": 2
}
